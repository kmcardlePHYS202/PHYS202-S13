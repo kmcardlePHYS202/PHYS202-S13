{
 "metadata": {
  "name": "ProjectEuler19"
 },
 "nbformat": 3,
 "nbformat_minor": 0,
 "worksheets": [
  {
   "cells": [
    {
     "cell_type": "markdown",
     "metadata": {},
     "source": [
      "You are given the following information, but you may prefer to do some research for yourself.\n",
      "\n",
      "1 Jan 1900 was a Monday.\n",
      "\n",
      "Thirty days has September,\n",
      "\n",
      "April, June and November. \n",
      "\n",
      "All the rest have thirty-one, \n",
      "\n",
      "Saving February alone, \n",
      "\n",
      "Which has twenty-eight, rain or shine.\n",
      "\n",
      "And on leap years, twenty-nine.\n",
      "\n",
      "A leap year occurs on any year evenly divisible by 4, but not on a century unless it is divisible by 400.\n",
      "How many Sundays fell on the first of the month during the twentieth century (1 Jan 1901 to 31 Dec 2000)?"
     ]
    },
    {
     "cell_type": "code",
     "collapsed": false,
     "input": [
      "year1 = [31,28,31,30,31,30,31,31,30,31,30,31]\n",
      "start_year = 1901\n",
      "\n",
      "def start_day(month, last_start, year):\n",
      "    \"\"\"takes current month and what the last month started on and returns what this month starts on\"\"\"\n",
      "    if year%4==0:\n",
      "        year1[1] = 29 #leap year\n",
      "    if month==0: #if its january\n",
      "        last = 11\n",
      "    else:\n",
      "        last = month-1\n",
      "    day = last_start + (year1[last]%7)\n",
      "    if day>7:\n",
      "        day -=7\n",
      "    year1[1] = 28 #resets february to 28 days\n",
      "    return day\n",
      "\n",
      "def sundays(end):\n",
      "    \"\"\"find out how many sundays have fallen on the first of the month from Jan 1, 1901 till the end of the inputted year\"\"\"\n",
      "    day = 6 #Since Jan 1, 1901 was a tuesday: the previous december started on a saturday\n",
      "    count = 0\n",
      "    for i in range(start_year,end+1):\n",
      "        for k in range(0,12):\n",
      "            if start_day(k,day,i)==7:\n",
      "                count +=1\n",
      "            day = start_day(k,day,i)\n",
      "    return count\n",
      "\n",
      "print sundays(2000)"
     ],
     "language": "python",
     "metadata": {},
     "outputs": [
      {
       "output_type": "stream",
       "stream": "stdout",
       "text": [
        "171\n"
       ]
      }
     ],
     "prompt_number": 23
    },
    {
     "cell_type": "code",
     "collapsed": false,
     "input": [],
     "language": "python",
     "metadata": {},
     "outputs": []
    }
   ],
   "metadata": {}
  }
 ]
}