{
 "metadata": {
  "name": "ProjectEuler17"
 },
 "nbformat": 3,
 "nbformat_minor": 0,
 "worksheets": [
  {
   "cells": [
    {
     "cell_type": "markdown",
     "metadata": {},
     "source": [
      "Number letter counts\n",
      "=\n",
      "Problem 17\n",
      "-\n",
      "If the numbers 1 to 5 are written out in words: one, two, three, four, five, then there are 3 + 3 + 5 + 4 + 4 = 19 letters used in total.\n",
      "\n",
      "If all the numbers from 1 to 1000 (one thousand) inclusive were written out in words, how many letters would be used?\n",
      "\n",
      "\n",
      "NOTE: Do not count spaces or hyphens. For example, 342 (three hundred and forty-two) contains 23 letters and 115 (one hundred and fifteen) contains 20 letters. The use of \"and\" when writing out numbers is in compliance with British usage."
     ]
    },
    {
     "cell_type": "code",
     "collapsed": false,
     "input": [
      "def count_by_letter(i):\n",
      "    \n",
      "    first = ['zero','one','two','three','four','five','six','seven','eight','nine']\n",
      "    teens = ['ten','eleven','twelve','thirteen','fourteen','fifteen','sixteen','seventeen','eighteen','ninteen']\n",
      "    tens = ['','','twenty','thirty','forty','fifty','sixty','seventy','eighty','ninty']\n",
      "    hundreds = 'hundredand'\n",
      "    thousand = 'onethousand'\n",
      "\n",
      "    th = int(i/1000)\n",
      "    hu = int(i/100)-(th*10)\n",
      "    te = int(i/10) - (th*100) - (hu*10)\n",
      "    on = i - (th*1000) - (hu*100) - (te*10)\n",
      "    \n",
      "    print th,hu,te,on\n",
      "    \n",
      "    ans = ''\n",
      "    \n",
      "    if(th>0):\n",
      "        ans += thousand\n",
      "    if(hu>0):\n",
      "        ans += first[hu] + hundreds\n",
      "    if(te==1):\n",
      "        ans += teens[on]\n",
      "    if(te>1):\n",
      "        ans += tens[te]\n",
      "    if(on>0 and te>1):\n",
      "        ans += first[on]\n",
      "        \n",
      "    print ans\n",
      "    \n",
      "    return len(ans)\n",
      "    \n",
      "print count_by_letter(342)\n",
      "print count_by_letter(115)"
     ],
     "language": "python",
     "metadata": {},
     "outputs": [
      {
       "output_type": "stream",
       "stream": "stdout",
       "text": [
        "0 3 4 2\n",
        "threehundredandfortytwo\n",
        "23\n",
        "0 1 1 5\n",
        "onehundredandfifteen\n",
        "20\n"
       ]
      }
     ],
     "prompt_number": 16
    },
    {
     "cell_type": "code",
     "collapsed": false,
     "input": [],
     "language": "python",
     "metadata": {},
     "outputs": []
    }
   ],
   "metadata": {}
  }
 ]
}