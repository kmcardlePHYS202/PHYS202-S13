{
 "metadata": {
  "name": "ProjectEuler4"
 },
 "nbformat": 3,
 "nbformat_minor": 0,
 "worksheets": [
  {
   "cells": [
    {
     "cell_type": "markdown",
     "metadata": {},
     "source": [
      "Largest palindrome product\n",
      "=\n",
      "Problem 4\n",
      "-\n",
      "A palindromic number reads the same both ways. The largest palindrome made from the product of two 2-digit numbers is 9009 = 91 x 99.\n",
      "\n",
      "Find the largest palindrome made from the product of two 3-digit numbers."
     ]
    },
    {
     "cell_type": "code",
     "collapsed": false,
     "input": [
      "def palindrome(num): \n",
      "    a = str(num)\n",
      "    if (a[::-1] == a):\n",
      "        return True\n",
      "    else:\n",
      "        return False\n",
      "    \n",
      "pal = 0\n",
      "for i in range(10,100):\n",
      "    for k in range(10,100):\n",
      "        if palindrome(i*k):\n",
      "            if (i*k)>= pal:\n",
      "                pal = i*k\n",
      "                a = i\n",
      "                b = k\n",
      "\n",
      "print \"highest two digit:\",a,\"x\",b,\"=\",pal\n",
      "\n",
      "\n",
      "pal = 0\n",
      "for i in range(100,1000):\n",
      "    for k in range(100,1000):\n",
      "        if palindrome(i*k):\n",
      "            if (i*k)>= pal:\n",
      "                pal = i*k\n",
      "                a = i\n",
      "                b = k\n",
      "\n",
      "print \"highest three digit:\",a,\"x\",b,\"=\",pal\n"
     ],
     "language": "python",
     "metadata": {},
     "outputs": [
      {
       "output_type": "stream",
       "stream": "stdout",
       "text": [
        "highest two digit: 99 x 91 = 9009\n",
        "highest three digit:"
       ]
      },
      {
       "output_type": "stream",
       "stream": "stdout",
       "text": [
        " 993 x 913 = 906609\n"
       ]
      }
     ],
     "prompt_number": 19
    },
    {
     "cell_type": "code",
     "collapsed": false,
     "input": [],
     "language": "python",
     "metadata": {},
     "outputs": []
    }
   ],
   "metadata": {}
  }
 ]
}