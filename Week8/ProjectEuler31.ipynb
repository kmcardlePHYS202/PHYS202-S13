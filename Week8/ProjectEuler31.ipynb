{
 "metadata": {
  "name": "ProjectEuler31"
 },
 "nbformat": 3,
 "nbformat_minor": 0,
 "worksheets": [
  {
   "cells": [
    {
     "cell_type": "markdown",
     "metadata": {},
     "source": [
      "Coin sums\n",
      "=\n",
      "Problem 31\n",
      "-\n",
      "In England the currency is made up of pound, \u00a3, and pence, p, and there are eight coins in general circulation:\n",
      "\n",
      "1p, 2p, 5p, 10p, 20p, 50p, \u00a31 (100p) and \u00a32 (200p).\n",
      "It is possible to make \u00a32 in the following way:\n",
      "\n",
      "1x\u00a31 + 1x50p + 2x20p + 1x5p + 1x2p + 3x1p\n",
      "How many different ways can \u00a32 be made using any number of coins?"
     ]
    },
    {
     "cell_type": "code",
     "collapsed": false,
     "input": [
      "one_pence = 1\n",
      "two_pence = 2\n",
      "five_pence = 5\n",
      "ten_pence = 10\n",
      "twenty_pence = 20\n",
      "fifty_pence = 50\n",
      "one_pound = 100\n",
      "two_pound = 200\n",
      "\n",
      "total = [one_pence,two_pence,five_pence,ten_pence,twenty_pence,fifty_pence,one_pound,two_pound]\n",
      "length = len(total)\n",
      "for i in range(length):\n",
      "    cost = 0\n",
      "print length"
     ],
     "language": "python",
     "metadata": {},
     "outputs": [
      {
       "output_type": "stream",
       "stream": "stdout",
       "text": [
        "8\n"
       ]
      }
     ],
     "prompt_number": 2
    },
    {
     "cell_type": "code",
     "collapsed": false,
     "input": [],
     "language": "python",
     "metadata": {},
     "outputs": []
    }
   ],
   "metadata": {}
  }
 ]
}