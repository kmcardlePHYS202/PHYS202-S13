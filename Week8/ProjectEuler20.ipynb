{
 "metadata": {
  "name": "ProjectEuler20"
 },
 "nbformat": 3,
 "nbformat_minor": 0,
 "worksheets": [
  {
   "cells": [
    {
     "cell_type": "markdown",
     "metadata": {},
     "source": [
      "Factorial digit sum\n",
      "=\n",
      "Problem 20\n",
      "-\n",
      "n! means n x (n - 1) x ... x 3 x 2 x 1\n",
      "\n",
      "For example, 10! = 10 x 9 x ... x 3 x 2 x 1 = 3628800,\n",
      "and the sum of the digits in the number 10! is 3 + 6 + 2 + 8 + 8 + 0 + 0 = 27.\n",
      "\n",
      "Find the sum of the digits in the number 100!"
     ]
    },
    {
     "cell_type": "code",
     "collapsed": false,
     "input": [
      "def factorial(n):\n",
      "    if n>=1:\n",
      "        return n*factorial(n-1)\n",
      "    else:\n",
      "        return 1\n",
      "\n",
      "def fac_sum(n):\n",
      "    x = str(factorial(n))\n",
      "    sum1 = 0\n",
      "    for i in x:\n",
      "        sum1+=int(i)\n",
      "    return sum1\n",
      "\n",
      "print \"10! =\",factorial(10)\n",
      "print \"the sum of the digits =\",fac_sum(10)\n",
      "print\n",
      "print \"100! =\", factorial(100)\n",
      "print \"the sum of the digits =\",fac_sum(100)"
     ],
     "language": "python",
     "metadata": {},
     "outputs": [
      {
       "output_type": "stream",
       "stream": "stdout",
       "text": [
        "10! = 3628800\n",
        "the sum of the digits = 27\n",
        "\n",
        "100! = 93326215443944152681699238856266700490715968264381621468592963895217599993229915608941463976156518286253697920827223758251185210916864000000000000000000000000\n",
        "the sum of the digits = 648\n"
       ]
      }
     ],
     "prompt_number": 5
    },
    {
     "cell_type": "code",
     "collapsed": false,
     "input": [],
     "language": "python",
     "metadata": {},
     "outputs": []
    }
   ],
   "metadata": {}
  }
 ]
}