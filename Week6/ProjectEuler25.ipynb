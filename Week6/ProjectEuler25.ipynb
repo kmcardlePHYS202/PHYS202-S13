{
 "metadata": {
  "name": "ProjectEuler25"
 },
 "nbformat": 3,
 "nbformat_minor": 0,
 "worksheets": [
  {
   "cells": [
    {
     "cell_type": "markdown",
     "metadata": {},
     "source": [
      "1000-digit Fibonacci number\n",
      "=\n",
      "Problem 25\n",
      "-\n",
      "The Fibonacci sequence is defined by the recurrence relation:\n",
      "\n",
      "Fn = Fn1 + Fn2, where F1 = 1 and F2 = 1.<br />\n",
      "Hence the first 12 terms will be:\n",
      "\n",
      "F1 = 1<br />\n",
      "F2 = 1<br />\n",
      "F3 = 2<br />\n",
      "F4 = 3<br />\n",
      "F5 = 5<br />\n",
      "F6 = 8<br />\n",
      "F7 = 13<br />\n",
      "F8 = 21<br />\n",
      "F9 = 34<br />\n",
      "F10 = 55<br />\n",
      "F11 = 89<br />\n",
      "F12 = 144<br />\n",
      "The 12th term, F12, is the first term to contain three digits.\n",
      "\n",
      "What is the first term in the Fibonacci sequence to contain 1000 digits?"
     ]
    },
    {
     "cell_type": "code",
     "collapsed": false,
     "input": [
      "def fib(digits):\n",
      "    F = [1,1]\n",
      "    while len(str(F[-1])) < digits:\n",
      "        F.append(F[-1] + F[-2])\n",
      "    return F[-1]"
     ],
     "language": "python",
     "metadata": {},
     "outputs": [],
     "prompt_number": 6
    },
    {
     "cell_type": "code",
     "collapsed": false,
     "input": [
      "print fib(3)"
     ],
     "language": "python",
     "metadata": {},
     "outputs": [
      {
       "output_type": "stream",
       "stream": "stdout",
       "text": [
        "144\n"
       ]
      }
     ],
     "prompt_number": 7
    },
    {
     "cell_type": "code",
     "collapsed": false,
     "input": [
      "print fib(4)"
     ],
     "language": "python",
     "metadata": {},
     "outputs": [
      {
       "output_type": "stream",
       "stream": "stdout",
       "text": [
        "1597\n"
       ]
      }
     ],
     "prompt_number": 8
    },
    {
     "cell_type": "code",
     "collapsed": false,
     "input": [],
     "language": "python",
     "metadata": {},
     "outputs": []
    }
   ],
   "metadata": {}
  }
 ]
}